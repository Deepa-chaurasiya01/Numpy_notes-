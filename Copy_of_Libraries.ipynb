{
  "cells": [
    {
      "cell_type": "markdown",
      "source": [
        "#**Numpy**: \n",
        "It is anumerical python and it is used for the manipulation of a number."
      ],
      "metadata": {
        "id": "I-mrQVtX_pac"
      }
    },
    {
      "cell_type": "code",
      "source": [
        "import numpy as np"
      ],
      "metadata": {
        "id": "g8rUBniYPGW-"
      },
      "execution_count": null,
      "outputs": []
    },
    {
      "cell_type": "markdown",
      "source": [
        "# Difference between Numpy and List:-"
      ],
      "metadata": {
        "id": "N3EbYND-IOUh"
      }
    },
    {
      "cell_type": "markdown",
      "source": [
        "Numpy:   ---    &    ---   List:\n",
        "\n",
        "1.   **Size** : Numpy DS take up less space.\n",
        "2.   **Performance**: They have need for speed and are faster than lists.\n",
        "3.   **Functionality**: SciPy and NumPy have optimizes dunctions such as linear algebra operations built in.\n",
        "\n"
      ],
      "metadata": {
        "id": "VP0dWz2WImBi"
      }
    },
    {
      "cell_type": "markdown",
      "source": [
        "\n",
        "\n",
        "---\n",
        "### **`Program Implementation:`**\n",
        "We can use **timeit** to find the running time(avg/mean).\n",
        "\n",
        "\n",
        "**%timeit** - For getting the execution time of single statement.\n",
        "\n",
        "\n",
        "\n",
        "\n",
        "\n",
        "**%%timeit** - For multiline execution time"
      ],
      "metadata": {
        "id": "9yoDc2KuNlm-"
      }
    },
    {
      "cell_type": "code",
      "source": [
        "%timeit[i**2 for i in range(1,11)] #List"
      ],
      "metadata": {
        "colab": {
          "base_uri": "https://localhost:8080/"
        },
        "id": "imPFFBqdNTWH",
        "outputId": "742a8607-25e1-44ea-8d3c-d0285146c0dc"
      },
      "execution_count": null,
      "outputs": [
        {
          "output_type": "stream",
          "name": "stdout",
          "text": [
            "The slowest run took 6.16 times longer than the fastest. This could mean that an intermediate result is being cached.\n",
            "100000 loops, best of 5: 2.9 µs per loop\n"
          ]
        }
      ]
    },
    {
      "cell_type": "code",
      "source": [
        "%timeit np.arange(1,11)**2"
      ],
      "metadata": {
        "colab": {
          "base_uri": "https://localhost:8080/"
        },
        "id": "s4IalJWsO4zS",
        "outputId": "a1a68010-d11e-4661-b0bc-8cc12239e870"
      },
      "execution_count": null,
      "outputs": [
        {
          "output_type": "stream",
          "name": "stdout",
          "text": [
            "The slowest run took 2280.44 times longer than the fastest. This could mean that an intermediate result is being cached.\n",
            "1000000 loops, best of 5: 1.73 µs per loop\n"
          ]
        }
      ]
    },
    {
      "cell_type": "markdown",
      "source": [
        "*In this case you'll find that numpy array is taking much lesser time than that of list.* "
      ],
      "metadata": {
        "id": "FJll81dKPW-2"
      }
    },
    {
      "cell_type": "markdown",
      "source": [
        "\n",
        "\n",
        "---\n",
        "# Searching Arrays in Numpy:-\n",
        "\n",
        "  We can search a value in an array and if the value is found the concerned index is returned.\n",
        "  To search an array, we use **where()** method.\n",
        "\n",
        "\n",
        "\n",
        "\n",
        "\n",
        "\n",
        "\n",
        "\n"
      ],
      "metadata": {
        "id": "Zgkf9st0RcAe"
      }
    },
    {
      "cell_type": "code",
      "source": [
        "srch_arr = np.array([10,20,30,40,50,40,40])\n",
        "x1 = np.where(srch_arr == 40)\n",
        "x1"
      ],
      "metadata": {
        "colab": {
          "base_uri": "https://localhost:8080/"
        },
        "id": "Gi3ijykPSKvS",
        "outputId": "05841f4c-5c85-4c78-ace7-a5ef693f3c0d"
      },
      "execution_count": null,
      "outputs": [
        {
          "output_type": "execute_result",
          "data": {
            "text/plain": [
              "(array([3, 5, 6]),)"
            ]
          },
          "metadata": {},
          "execution_count": 4
        }
      ]
    },
    {
      "cell_type": "markdown",
      "source": [
        "### `Searchsorted() :-`\n",
        "\n",
        "\n",
        "This method performs a Binary search in the array, and returns the index where the specified value would be inserted to maintain the search order.\n",
        "\n",
        "this searching is from left to right.\n",
        "\n"
      ],
      "metadata": {
        "id": "hzs5EZ0UTK1L"
      }
    },
    {
      "cell_type": "code",
      "source": [
        "a = np.array([3,5,8,9,13])\n",
        "x = np.searchsorted(a,10)\n",
        "x"
      ],
      "metadata": {
        "colab": {
          "base_uri": "https://localhost:8080/"
        },
        "id": "TFWF7B_sU9j6",
        "outputId": "16445d9c-0f65-4406-d444-81e6940c2285"
      },
      "execution_count": null,
      "outputs": [
        {
          "output_type": "execute_result",
          "data": {
            "text/plain": [
              "4"
            ]
          },
          "metadata": {},
          "execution_count": 5
        }
      ]
    },
    {
      "cell_type": "markdown",
      "source": [
        "But if we want ro perform from **right side**."
      ],
      "metadata": {
        "id": "622v6jIcZa4E"
      }
    },
    {
      "cell_type": "code",
      "source": [
        "a = np.array([2,3,5,8,9,13])\n",
        "x = np.searchsorted(a,7 ,side = 'right')\n",
        "x"
      ],
      "metadata": {
        "colab": {
          "base_uri": "https://localhost:8080/"
        },
        "id": "SM2WWMf1ZxWt",
        "outputId": "4db51ea7-58ff-4dd9-cc8f-82de97e64db9"
      },
      "execution_count": null,
      "outputs": [
        {
          "output_type": "execute_result",
          "data": {
            "text/plain": [
              "3"
            ]
          },
          "metadata": {},
          "execution_count": 6
        }
      ]
    },
    {
      "cell_type": "markdown",
      "source": [
        "\n",
        "\n",
        "---\n",
        "\n"
      ],
      "metadata": {
        "id": "WaX2dmyHSL86"
      }
    },
    {
      "cell_type": "markdown",
      "metadata": {
        "id": "QzFKGq32IkAp"
      },
      "source": [
        "#**1D array:**"
      ]
    },
    {
      "cell_type": "code",
      "execution_count": null,
      "metadata": {
        "id": "YmylwiHvFRA0"
      },
      "outputs": [],
      "source": [
        "\n",
        "my_list = [1,2,3,5]\n",
        "n = np.array(my_list)\n"
      ]
    },
    {
      "cell_type": "code",
      "execution_count": null,
      "metadata": {
        "colab": {
          "base_uri": "https://localhost:8080/"
        },
        "id": "z9xVTeo1HO3p",
        "outputId": "097775e7-3bd5-4989-e372-34e659f3bfd5"
      },
      "outputs": [
        {
          "output_type": "execute_result",
          "data": {
            "text/plain": [
              "list"
            ]
          },
          "metadata": {},
          "execution_count": 8
        }
      ],
      "source": [
        "type(n)\n",
        "type(my_list)"
      ]
    },
    {
      "cell_type": "markdown",
      "metadata": {
        "id": "1Lvin-sWIqNe"
      },
      "source": [
        "\n",
        "\n",
        "---\n",
        "\n",
        "\n",
        "\n",
        "---\n",
        "\n",
        "#**Multi-Dimensional arrays:**"
      ]
    },
    {
      "cell_type": "code",
      "execution_count": null,
      "metadata": {
        "colab": {
          "base_uri": "https://localhost:8080/"
        },
        "id": "fcf63Xz1IzVl",
        "outputId": "f516511c-f767-4dc0-891a-6bcd9abb5468"
      },
      "outputs": [
        {
          "output_type": "execute_result",
          "data": {
            "text/plain": [
              "array([[1, 2, 3],\n",
              "       [4, 5, 6],\n",
              "       [7, 7, 8]])"
            ]
          },
          "metadata": {},
          "execution_count": 9
        }
      ],
      "source": [
        " arr = np.array([[1,2,3],[4,5,6],[7,7,8,]])\n",
        " arr"
      ]
    },
    {
      "cell_type": "code",
      "execution_count": null,
      "metadata": {
        "colab": {
          "base_uri": "https://localhost:8080/"
        },
        "id": "8ZucqNTRLCOT",
        "outputId": "132cd71a-c3b7-4589-adb2-912c4c3ffffa"
      },
      "outputs": [
        {
          "output_type": "execute_result",
          "data": {
            "text/plain": [
              "(3, 3)"
            ]
          },
          "metadata": {},
          "execution_count": 10
        }
      ],
      "source": [
        "arr.shape"
      ]
    },
    {
      "cell_type": "markdown",
      "metadata": {
        "id": "ska6w0OdMfed"
      },
      "source": [
        "it is a range wher we give a range from 0to 10;"
      ]
    },
    {
      "cell_type": "code",
      "execution_count": null,
      "metadata": {
        "colab": {
          "base_uri": "https://localhost:8080/"
        },
        "id": "ENaPwwLVMfJ4",
        "outputId": "ee4ce4e2-ddc4-485e-e6fe-31be49f7012e"
      },
      "outputs": [
        {
          "output_type": "execute_result",
          "data": {
            "text/plain": [
              "array([0, 1, 2, 3, 4, 5, 6, 7, 8, 9])"
            ]
          },
          "metadata": {},
          "execution_count": 11
        }
      ],
      "source": [
        "np.arange(0,10)"
      ]
    },
    {
      "cell_type": "code",
      "execution_count": null,
      "metadata": {
        "colab": {
          "base_uri": "https://localhost:8080/"
        },
        "id": "kI7f2_CGMXff",
        "outputId": "7e283024-2949-4412-c27a-deff982a95fa"
      },
      "outputs": [
        {
          "output_type": "execute_result",
          "data": {
            "text/plain": [
              "array([0, 1, 2, 3, 4, 5, 6, 7, 8, 9])"
            ]
          },
          "metadata": {},
          "execution_count": 12
        }
      ],
      "source": [
        "np.arange(10)"
      ]
    },
    {
      "cell_type": "code",
      "execution_count": null,
      "metadata": {
        "colab": {
          "base_uri": "https://localhost:8080/"
        },
        "id": "gdE2U-0nNBmN",
        "outputId": "4db0a190-b87d-41fa-8a4a-3e59bcf81b1f"
      },
      "outputs": [
        {
          "output_type": "execute_result",
          "data": {
            "text/plain": [
              "array([ 0,  1,  2,  3,  4,  5,  6,  7,  8,  9, 10, 11, 12, 13, 14, 15, 16,\n",
              "       17, 18, 19, 20, 21, 22, 23, 24, 25, 26, 27, 28, 29, 30, 31, 32, 33,\n",
              "       34, 35, 36, 37, 38, 39, 40, 41, 42, 43, 44, 45, 46, 47, 48, 49])"
            ]
          },
          "metadata": {},
          "execution_count": 13
        }
      ],
      "source": [
        "z = np.arange(0,50)\n",
        "z"
      ]
    },
    {
      "cell_type": "code",
      "execution_count": null,
      "metadata": {
        "colab": {
          "base_uri": "https://localhost:8080/"
        },
        "id": "Z2p366InG9tB",
        "outputId": "d3bf8065-890f-41d6-f850-c0a53597700e"
      },
      "outputs": [
        {
          "output_type": "execute_result",
          "data": {
            "text/plain": [
              "array([[ 0,  1,  2,  3,  4,  5,  6,  7,  8,  9],\n",
              "       [10, 11, 12, 13, 14, 15, 16, 17, 18, 19],\n",
              "       [20, 21, 22, 23, 24, 25, 26, 27, 28, 29],\n",
              "       [30, 31, 32, 33, 34, 35, 36, 37, 38, 39],\n",
              "       [40, 41, 42, 43, 44, 45, 46, 47, 48, 49]])"
            ]
          },
          "metadata": {},
          "execution_count": 14
        }
      ],
      "source": [
        "z.reshape(5,10)"
      ]
    },
    {
      "cell_type": "code",
      "execution_count": null,
      "metadata": {
        "colab": {
          "base_uri": "https://localhost:8080/"
        },
        "id": "nrGytQHsGW7J",
        "outputId": "3a1f393b-585f-46d1-9873-4bf6fd65fb7c"
      },
      "outputs": [
        {
          "output_type": "execute_result",
          "data": {
            "text/plain": [
              "50"
            ]
          },
          "metadata": {},
          "execution_count": 15
        }
      ],
      "source": [
        "len(z)"
      ]
    },
    {
      "cell_type": "code",
      "execution_count": null,
      "metadata": {
        "colab": {
          "base_uri": "https://localhost:8080/"
        },
        "id": "ie8635KEWlvf",
        "outputId": "778c2484-b4ef-4b5f-eac3-024ea9f6da83"
      },
      "outputs": [
        {
          "output_type": "execute_result",
          "data": {
            "text/plain": [
              "array([[ 0,  1,  2,  3,  4,  5,  6,  7,  8,  9],\n",
              "       [10, 11, 12, 13, 14, 15, 16, 17, 18, 19],\n",
              "       [20, 21, 22, 23, 24, 25, 26, 27, 28, 29],\n",
              "       [30, 31, 32, 33, 34, 35, 36, 37, 38, 39],\n",
              "       [40, 41, 42, 43, 44, 45, 46, 47, 48, 49]])"
            ]
          },
          "metadata": {},
          "execution_count": 16
        }
      ],
      "source": [
        "new_variable = z.reshape(5,10)\n",
        "new_variable"
      ]
    },
    {
      "cell_type": "code",
      "execution_count": null,
      "metadata": {
        "colab": {
          "base_uri": "https://localhost:8080/"
        },
        "id": "MXo2pc_eNRQp",
        "outputId": "29964fed-1d75-42a9-8ee7-963482c935f2"
      },
      "outputs": [
        {
          "output_type": "stream",
          "name": "stdout",
          "text": [
            "0\n",
            "2\n",
            "4\n",
            "6\n",
            "8\n"
          ]
        }
      ],
      "source": [
        "for i in range(0, 10,2):\n",
        "    print(i)"
      ]
    },
    {
      "cell_type": "code",
      "execution_count": null,
      "metadata": {
        "colab": {
          "base_uri": "https://localhost:8080/"
        },
        "id": "TLIo_niXBsza",
        "outputId": "8a22a408-ab5e-49d3-dd79-13559c462eee"
      },
      "outputs": [
        {
          "output_type": "execute_result",
          "data": {
            "text/plain": [
              "array([[0., 0., 0.],\n",
              "       [0., 0., 0.],\n",
              "       [0., 0., 0.]])"
            ]
          },
          "metadata": {},
          "execution_count": 18
        }
      ],
      "source": [
        "m = np.zeros((3,3))\n",
        "m"
      ]
    },
    {
      "cell_type": "code",
      "execution_count": null,
      "metadata": {
        "colab": {
          "base_uri": "https://localhost:8080/"
        },
        "id": "eCETZKs5B2YI",
        "outputId": "8735bc00-1090-4b83-a549-6cc87df542ac"
      },
      "outputs": [
        {
          "output_type": "execute_result",
          "data": {
            "text/plain": [
              "array([[1., 1.],\n",
              "       [1., 1.],\n",
              "       [1., 1.]])"
            ]
          },
          "metadata": {},
          "execution_count": 19
        }
      ],
      "source": [
        "m1 = np.ones((3,2))\n",
        "m1"
      ]
    },
    {
      "cell_type": "code",
      "execution_count": null,
      "metadata": {
        "colab": {
          "base_uri": "https://localhost:8080/"
        },
        "id": "95WQHmqlECa_",
        "outputId": "d41563b1-7de0-4a6d-97b3-a5d3b0048553"
      },
      "outputs": [
        {
          "output_type": "execute_result",
          "data": {
            "text/plain": [
              "array([[1., 0., 0., 0., 0., 0.],\n",
              "       [0., 1., 0., 0., 0., 0.],\n",
              "       [0., 0., 1., 0., 0., 0.],\n",
              "       [0., 0., 0., 1., 0., 0.],\n",
              "       [0., 0., 0., 0., 1., 0.],\n",
              "       [0., 0., 0., 0., 0., 1.]])"
            ]
          },
          "metadata": {},
          "execution_count": 20
        }
      ],
      "source": [
        "a = np.eye(6)\n",
        "a\n",
        "# If you see the diagonals reight of the eye or it acutally\n",
        "# helps us to generate one-sisded diagonals "
      ]
    },
    {
      "cell_type": "markdown",
      "source": [
        "***linespace function returns values between a given range\n",
        "and with a same gap between consecutive elements.***"
      ],
      "metadata": {
        "id": "ZwiNgwZQAlV6"
      }
    },
    {
      "cell_type": "code",
      "execution_count": null,
      "metadata": {
        "colab": {
          "base_uri": "https://localhost:8080/"
        },
        "id": "Dojga-3AGAXD",
        "outputId": "311098d0-ba33-4b3c-b446-ed61f337be38"
      },
      "outputs": [
        {
          "output_type": "execute_result",
          "data": {
            "text/plain": [
              "array([0.        , 0.77777778, 1.55555556, 2.33333333, 3.11111111,\n",
              "       3.88888889, 4.66666667, 5.44444444, 6.22222222, 7.        ])"
            ]
          },
          "metadata": {},
          "execution_count": 21
        }
      ],
      "source": [
        "b = np.linspace(0,7,10)\n",
        "b"
      ]
    },
    {
      "cell_type": "code",
      "execution_count": null,
      "metadata": {
        "colab": {
          "base_uri": "https://localhost:8080/"
        },
        "id": "Cs-LoWaKIfjk",
        "outputId": "c7d8f83f-4aaf-4eaf-da59-5bf828608c2b"
      },
      "outputs": [
        {
          "output_type": "execute_result",
          "data": {
            "text/plain": [
              "10"
            ]
          },
          "metadata": {},
          "execution_count": 22
        }
      ],
      "source": [
        "len(b)"
      ]
    },
    {
      "cell_type": "code",
      "execution_count": null,
      "metadata": {
        "colab": {
          "base_uri": "https://localhost:8080/"
        },
        "id": "VNLC-V0RIkRR",
        "outputId": "a5f0427b-1951-4bd0-a231-ffa57250a797"
      },
      "outputs": [
        {
          "output_type": "execute_result",
          "data": {
            "text/plain": [
              "array([[0.        ],\n",
              "       [0.77777778],\n",
              "       [1.55555556],\n",
              "       [2.33333333],\n",
              "       [3.11111111],\n",
              "       [3.88888889],\n",
              "       [4.66666667],\n",
              "       [5.44444444],\n",
              "       [6.22222222],\n",
              "       [7.        ]])"
            ]
          },
          "metadata": {},
          "execution_count": 23
        }
      ],
      "source": [
        "b.resize(10,1)\n",
        "b"
      ]
    },
    {
      "cell_type": "markdown",
      "metadata": {
        "id": "VpWDbMsSYHUN"
      },
      "source": [
        "\n",
        "\n",
        "---\n",
        "\n",
        "\n",
        "\n",
        "---\n",
        "\n"
      ]
    },
    {
      "cell_type": "markdown",
      "metadata": {
        "id": "kIXhmGAMX9rn"
      },
      "source": [
        "#**Generate some random values:**"
      ]
    },
    {
      "cell_type": "markdown",
      "metadata": {
        "id": "Z1O5yAcLGGhj"
      },
      "source": [
        " np.random.rand(3,2) :  Create an array of the given shape and populate it with random samples from a uniform distribution over [0, 1)."
      ]
    },
    {
      "cell_type": "code",
      "execution_count": null,
      "metadata": {
        "id": "L-94dUnMdBPU"
      },
      "outputs": [],
      "source": [
        "# help(np.random)"
      ]
    },
    {
      "cell_type": "code",
      "execution_count": null,
      "metadata": {
        "colab": {
          "base_uri": "https://localhost:8080/"
        },
        "id": "uR8Y7uKFJMGD",
        "outputId": "018c5a1f-bdd8-4b84-bdac-8be673d2a9df"
      },
      "outputs": [
        {
          "output_type": "execute_result",
          "data": {
            "text/plain": [
              "array([[0.21535218, 0.94658827],\n",
              "       [0.95866165, 0.87237558],\n",
              "       [0.53954517, 0.98813372]])"
            ]
          },
          "metadata": {},
          "execution_count": 25
        }
      ],
      "source": [
        "np.random.rand(3,2)"
      ]
    },
    {
      "cell_type": "markdown",
      "metadata": {
        "id": "vOxB7mt-GRcr"
      },
      "source": [
        "np.random.randn(3,3):  It Return a sample (or samples) from the “standard normal” distribution."
      ]
    },
    {
      "cell_type": "code",
      "execution_count": null,
      "metadata": {
        "colab": {
          "base_uri": "https://localhost:8080/"
        },
        "id": "HPQ-wfd3YiMS",
        "outputId": "e7b9179e-6cd8-4637-f221-ebc882b4819e"
      },
      "outputs": [
        {
          "output_type": "execute_result",
          "data": {
            "text/plain": [
              "array([[ 1.10880938, -0.70818333,  0.41068113],\n",
              "       [-1.19973651,  1.1959191 ,  0.72004483],\n",
              "       [-0.09208281,  1.3683045 ,  0.98496721]])"
            ]
          },
          "metadata": {},
          "execution_count": 26
        }
      ],
      "source": [
        "np.random.randn(3,3)"
      ]
    },
    {
      "cell_type": "code",
      "execution_count": null,
      "metadata": {
        "colab": {
          "base_uri": "https://localhost:8080/"
        },
        "id": "5MtJkPTzGkqt",
        "outputId": "531c3d73-6a27-4471-81c0-cf04bc900d4e"
      },
      "outputs": [
        {
          "output_type": "execute_result",
          "data": {
            "text/plain": [
              "array([0.1990109 , 0.51468933, 0.35989805, 0.29590958, 0.45810207])"
            ]
          },
          "metadata": {},
          "execution_count": 27
        }
      ],
      "source": [
        "np.random.ranf(5)"
      ]
    },
    {
      "cell_type": "code",
      "execution_count": null,
      "metadata": {
        "colab": {
          "base_uri": "https://localhost:8080/"
        },
        "id": "Lw2GFrktisEu",
        "outputId": "f2b95392-3e93-437c-8602-032f0fc392de"
      },
      "outputs": [
        {
          "output_type": "execute_result",
          "data": {
            "text/plain": [
              "array([3, 3])"
            ]
          },
          "metadata": {},
          "execution_count": 28
        }
      ],
      "source": [
        "# np.random.randint(10,20 ,size=(5,9))\n",
        "np.random.randint(5,size = 2)"
      ]
    },
    {
      "cell_type": "markdown",
      "source": [
        "## Seed function:\n",
        "\n",
        "\n",
        "```\n",
        "We know that randint() function generates random numbers.\n",
        "Everytime we run the program,new set of random number \n",
        "is generated. But what if we want to fix the generation\n",
        "of this random number .In this case we use 'seed', \n",
        "this generates fix set of random numbers.  \n",
        "```\n",
        "\n"
      ],
      "metadata": {
        "id": "-28B7K5N14HU"
      }
    },
    {
      "cell_type": "code",
      "source": [
        "#example: it won't change until you change the value\n",
        "np.random.seed(13)  #important statement\n",
        "arr = np.random.randint(1,100,12)\n",
        "# arr.size  #for size\n",
        "arr"
      ],
      "metadata": {
        "colab": {
          "base_uri": "https://localhost:8080/"
        },
        "id": "ncZ7DKIR195z",
        "outputId": "6a94a5b1-2624-4d68-8058-ff91b6d51d42"
      },
      "execution_count": null,
      "outputs": [
        {
          "output_type": "execute_result",
          "data": {
            "text/plain": [
              "array([83, 49, 75, 17, 99, 26, 59, 27, 67, 47, 55, 78])"
            ]
          },
          "metadata": {},
          "execution_count": 29
        }
      ]
    },
    {
      "cell_type": "markdown",
      "source": [
        " **Now it will return the same random numbers till we change the integer as passed to the seed at any computer**"
      ],
      "metadata": {
        "id": "zvYq0PC_3q5s"
      }
    },
    {
      "cell_type": "markdown",
      "source": [
        "##### Creating 2D array with fixed data type"
      ],
      "metadata": {
        "id": "nijkAahhExKZ"
      }
    },
    {
      "cell_type": "code",
      "source": [
        "#example\n",
        "np.random.seed(13)  #important statement\n",
        "arr1 = np.random.randint(1,100,12).reshape(4,3)\n",
        "# arr.size  #for size\n",
        "arr"
      ],
      "metadata": {
        "colab": {
          "base_uri": "https://localhost:8080/"
        },
        "id": "qewgOifQEv3Z",
        "outputId": "db930ec7-babe-4959-9427-e37b73aaf506"
      },
      "execution_count": null,
      "outputs": [
        {
          "output_type": "execute_result",
          "data": {
            "text/plain": [
              "array([83, 49, 75, 17, 99, 26, 59, 27, 67, 47, 55, 78])"
            ]
          },
          "metadata": {},
          "execution_count": 30
        }
      ]
    },
    {
      "cell_type": "code",
      "source": [
        "np.sum(arr1)"
      ],
      "metadata": {
        "colab": {
          "base_uri": "https://localhost:8080/"
        },
        "id": "gMwsSNZxHLiS",
        "outputId": "3646bf70-db3e-4a66-ed25-ac0d219674af"
      },
      "execution_count": null,
      "outputs": [
        {
          "output_type": "execute_result",
          "data": {
            "text/plain": [
              "682"
            ]
          },
          "metadata": {},
          "execution_count": 31
        }
      ]
    },
    {
      "cell_type": "code",
      "source": [
        "np.min(arr1)"
      ],
      "metadata": {
        "colab": {
          "base_uri": "https://localhost:8080/"
        },
        "id": "ujygYNY0HP7l",
        "outputId": "110c0835-a837-4770-9b96-59933a2a5d8d"
      },
      "execution_count": null,
      "outputs": [
        {
          "output_type": "execute_result",
          "data": {
            "text/plain": [
              "17"
            ]
          },
          "metadata": {},
          "execution_count": 32
        }
      ]
    },
    {
      "cell_type": "code",
      "source": [
        "np.max(arr1)"
      ],
      "metadata": {
        "colab": {
          "base_uri": "https://localhost:8080/"
        },
        "id": "vOX7IEFlHT_F",
        "outputId": "74f32ebd-e7a2-4854-d300-9d2a8464550e"
      },
      "execution_count": null,
      "outputs": [
        {
          "output_type": "execute_result",
          "data": {
            "text/plain": [
              "99"
            ]
          },
          "metadata": {},
          "execution_count": 33
        }
      ]
    },
    {
      "cell_type": "markdown",
      "source": [
        "**Shuffle**:- It will change the position in the array"
      ],
      "metadata": {
        "id": "O7YU06_LKg62"
      }
    },
    {
      "cell_type": "code",
      "source": [
        "np.random.shuffle(arr1)\n",
        "arr1"
      ],
      "metadata": {
        "colab": {
          "base_uri": "https://localhost:8080/"
        },
        "id": "kH22TjLhKYw9",
        "outputId": "4168e082-2276-49e6-a8e6-58219ad05107"
      },
      "execution_count": null,
      "outputs": [
        {
          "output_type": "execute_result",
          "data": {
            "text/plain": [
              "array([[83, 49, 75],\n",
              "       [47, 55, 78],\n",
              "       [17, 99, 26],\n",
              "       [59, 27, 67]])"
            ]
          },
          "metadata": {},
          "execution_count": 34
        }
      ]
    },
    {
      "cell_type": "markdown",
      "source": [
        "**Unique**:- It display unique number of the array.\n",
        "\n",
        "\"Suppose you've a array function and there are some values\n",
        "which are repeated or basically it will discard the \n",
        "duplicate value \"\n",
        "\n",
        "---\n",
        "\n",
        "# **Q1**:- Remove all the duplicates from the array.\n",
        "Ans: use unique function\n",
        "\n",
        "#**Q2**:- Count total no of unique elements are present.\n",
        "Ans: use unique function with .size"
      ],
      "metadata": {
        "id": "hvBCLaqgKxVl"
      }
    },
    {
      "cell_type": "code",
      "source": [
        "np.unique([12,12,1,3,45,1,25,5,2])"
      ],
      "metadata": {
        "colab": {
          "base_uri": "https://localhost:8080/"
        },
        "id": "1vKH1X6VKfww",
        "outputId": "e858f853-a252-41d7-ce5e-2231a170818b"
      },
      "execution_count": null,
      "outputs": [
        {
          "output_type": "execute_result",
          "data": {
            "text/plain": [
              "array([ 1,  2,  3,  5, 12, 25, 45])"
            ]
          },
          "metadata": {},
          "execution_count": 35
        }
      ]
    },
    {
      "cell_type": "markdown",
      "source": [
        "**Unique().size**:- It counts the unique count of elements."
      ],
      "metadata": {
        "id": "IPVukzLULEph"
      }
    },
    {
      "cell_type": "code",
      "source": [
        "np.unique([ 1,  2,  3,  5, 12, 25, 45]).size"
      ],
      "metadata": {
        "colab": {
          "base_uri": "https://localhost:8080/"
        },
        "id": "QYOuHdlgLD8J",
        "outputId": "7eaf1a72-7a1d-4274-cc79-f68115e80a2b"
      },
      "execution_count": null,
      "outputs": [
        {
          "output_type": "execute_result",
          "data": {
            "text/plain": [
              "7"
            ]
          },
          "metadata": {},
          "execution_count": 36
        }
      ]
    },
    {
      "cell_type": "markdown",
      "metadata": {
        "id": "X03GE8P_DI6m"
      },
      "source": [
        "#Index and Slicing"
      ]
    },
    {
      "cell_type": "code",
      "execution_count": null,
      "metadata": {
        "colab": {
          "base_uri": "https://localhost:8080/"
        },
        "id": "NRdni6D1DGtK",
        "outputId": "5a725110-35a9-4993-b94f-77e838bd872b"
      },
      "outputs": [
        {
          "output_type": "execute_result",
          "data": {
            "text/plain": [
              "array([ 8,  6,  4,  7,  9,  7, 10])"
            ]
          },
          "metadata": {},
          "execution_count": 37
        }
      ],
      "source": [
        "ans=np.random.randint(4,15,7)\n",
        "ans"
      ]
    },
    {
      "cell_type": "code",
      "execution_count": null,
      "metadata": {
        "colab": {
          "base_uri": "https://localhost:8080/"
        },
        "id": "d0krWqmqFtm1",
        "outputId": "af00a8f7-652b-4859-9c54-f06de4f70bf5"
      },
      "outputs": [
        {
          "output_type": "execute_result",
          "data": {
            "text/plain": [
              "6"
            ]
          },
          "metadata": {},
          "execution_count": 38
        }
      ],
      "source": [
        "ans[1]"
      ]
    },
    {
      "cell_type": "code",
      "execution_count": null,
      "metadata": {
        "colab": {
          "base_uri": "https://localhost:8080/"
        },
        "id": "QJcVPpfNFteu",
        "outputId": "87f8718d-b913-40b1-fec3-648178f4da54"
      },
      "outputs": [
        {
          "output_type": "execute_result",
          "data": {
            "text/plain": [
              "10"
            ]
          },
          "metadata": {},
          "execution_count": 39
        }
      ],
      "source": [
        "ans[-1]"
      ]
    },
    {
      "cell_type": "code",
      "execution_count": null,
      "metadata": {
        "colab": {
          "base_uri": "https://localhost:8080/"
        },
        "id": "61VsqvjYGBzW",
        "outputId": "1eb004ac-1194-4200-a8af-082ba52573f9"
      },
      "outputs": [
        {
          "output_type": "execute_result",
          "data": {
            "text/plain": [
              "array([7, 9])"
            ]
          },
          "metadata": {},
          "execution_count": 40
        }
      ],
      "source": [
        "ans[3:5]"
      ]
    },
    {
      "cell_type": "code",
      "execution_count": null,
      "metadata": {
        "colab": {
          "base_uri": "https://localhost:8080/"
        },
        "id": "r4r07p_mGuli",
        "outputId": "31672a4a-7633-4373-d1ed-b46874fb1894"
      },
      "outputs": [
        {
          "output_type": "execute_result",
          "data": {
            "text/plain": [
              "array([], dtype=int64)"
            ]
          },
          "metadata": {},
          "execution_count": 41
        }
      ],
      "source": [
        "ans[-7:0]"
      ]
    },
    {
      "cell_type": "code",
      "execution_count": null,
      "metadata": {
        "colab": {
          "base_uri": "https://localhost:8080/"
        },
        "id": "KEPw7PANHliy",
        "outputId": "5b1dde6f-8967-46fb-bb0d-9270bd88b98e"
      },
      "outputs": [
        {
          "output_type": "execute_result",
          "data": {
            "text/plain": [
              "array([ 7,  9,  7, 10])"
            ]
          },
          "metadata": {},
          "execution_count": 42
        }
      ],
      "source": [
        "ans[3:]"
      ]
    },
    {
      "cell_type": "code",
      "execution_count": null,
      "metadata": {
        "colab": {
          "base_uri": "https://localhost:8080/"
        },
        "id": "lRXc3jh9HpkR",
        "outputId": "1be30920-4867-470e-b13d-b554e60176bb"
      },
      "outputs": [
        {
          "output_type": "execute_result",
          "data": {
            "text/plain": [
              "array([8, 6, 4])"
            ]
          },
          "metadata": {},
          "execution_count": 43
        }
      ],
      "source": [
        "ans[:3]"
      ]
    },
    {
      "cell_type": "code",
      "execution_count": null,
      "metadata": {
        "colab": {
          "base_uri": "https://localhost:8080/"
        },
        "id": "7aXyMyU8HtwB",
        "outputId": "d61c671b-8db1-474e-99c8-2f75c6a2a616"
      },
      "outputs": [
        {
          "output_type": "execute_result",
          "data": {
            "text/plain": [
              "array([ 8,  6,  4,  7,  9,  7, 10])"
            ]
          },
          "metadata": {},
          "execution_count": 44
        }
      ],
      "source": [
        "ans[:]"
      ]
    },
    {
      "cell_type": "code",
      "execution_count": null,
      "metadata": {
        "colab": {
          "base_uri": "https://localhost:8080/"
        },
        "id": "xOyLKDVEH-Nl",
        "outputId": "e7d32b7a-3677-46de-a74d-529be3938ee1"
      },
      "outputs": [
        {
          "output_type": "execute_result",
          "data": {
            "text/plain": [
              "array([ 0,  1,  2,  3,  4,  5,  6,  7,  8,  9, 10, 11, 12, 13, 14, 15, 16,\n",
              "       17, 18, 19, 20, 21, 22, 23, 24, 25, 26, 27, 28, 29, 30, 31, 32, 33,\n",
              "       34, 35])"
            ]
          },
          "metadata": {},
          "execution_count": 45
        }
      ],
      "source": [
        "an = np.arange(36)\n",
        "an"
      ]
    },
    {
      "cell_type": "code",
      "execution_count": null,
      "metadata": {
        "colab": {
          "base_uri": "https://localhost:8080/"
        },
        "id": "zopK3v8zIuNO",
        "outputId": "d3437011-9cd2-4f7c-897d-9a01dee0f3e1"
      },
      "outputs": [
        {
          "output_type": "execute_result",
          "data": {
            "text/plain": [
              "array([[ 0,  1,  2,  3,  4,  5],\n",
              "       [ 6,  7,  8,  9, 10, 11],\n",
              "       [12, 13, 14, 15, 16, 17],\n",
              "       [18, 19, 20, 21, 22, 23],\n",
              "       [24, 25, 26, 27, 28, 29],\n",
              "       [30, 31, 32, 33, 34, 35]])"
            ]
          },
          "metadata": {},
          "execution_count": 46
        }
      ],
      "source": [
        "an.resize(6,6)\n",
        "an"
      ]
    },
    {
      "cell_type": "code",
      "execution_count": null,
      "metadata": {
        "colab": {
          "base_uri": "https://localhost:8080/"
        },
        "id": "p5eyg7iUIzF9",
        "outputId": "0128da19-2aaf-4144-e645-bd5f5f1ddfcc"
      },
      "outputs": [
        {
          "output_type": "execute_result",
          "data": {
            "text/plain": [
              "array([[12, 13, 14, 15, 16, 17],\n",
              "       [18, 19, 20, 21, 22, 23],\n",
              "       [24, 25, 26, 27, 28, 29],\n",
              "       [30, 31, 32, 33, 34, 35]])"
            ]
          },
          "metadata": {},
          "execution_count": 47
        }
      ],
      "source": [
        "an[2:]"
      ]
    },
    {
      "cell_type": "code",
      "execution_count": null,
      "metadata": {
        "colab": {
          "base_uri": "https://localhost:8080/"
        },
        "id": "yDPOAS8AJlat",
        "outputId": "5b6efecb-45d5-4912-8af7-1a90cc2b3c68"
      },
      "outputs": [
        {
          "output_type": "execute_result",
          "data": {
            "text/plain": [
              "array([14, 15, 16])"
            ]
          },
          "metadata": {},
          "execution_count": 48
        }
      ],
      "source": [
        "an[2, 2:5]\n",
        "# use : to select a range of rows or columns"
      ]
    },
    {
      "cell_type": "code",
      "execution_count": null,
      "metadata": {
        "colab": {
          "base_uri": "https://localhost:8080/"
        },
        "id": "cjiz9dgYJ9zq",
        "outputId": "b578cb1b-5166-4897-d766-2516ed6f0519"
      },
      "outputs": [
        {
          "output_type": "execute_result",
          "data": {
            "text/plain": [
              "15"
            ]
          },
          "metadata": {},
          "execution_count": 49
        }
      ],
      "source": [
        "an[2,3] "
      ]
    },
    {
      "cell_type": "code",
      "execution_count": null,
      "metadata": {
        "colab": {
          "base_uri": "https://localhost:8080/"
        },
        "id": "v-OcbZnNMg1a",
        "outputId": "153a0350-44bf-4ea5-bfa5-9c47475622fe"
      },
      "outputs": [
        {
          "output_type": "execute_result",
          "data": {
            "text/plain": [
              "array([[21, 22, 23],\n",
              "       [27, 28, 29],\n",
              "       [33, 34, 35]])"
            ]
          },
          "metadata": {},
          "execution_count": 50
        }
      ],
      "source": [
        "an[3:,3:]"
      ]
    },
    {
      "cell_type": "code",
      "execution_count": null,
      "metadata": {
        "colab": {
          "base_uri": "https://localhost:8080/"
        },
        "id": "XUwS9pcxOQNj",
        "outputId": "141ca6fd-c802-4eb1-f8ee-4a22c69ae239"
      },
      "outputs": [
        {
          "output_type": "execute_result",
          "data": {
            "text/plain": [
              "array([ 0,  1,  2,  3,  4,  5,  6,  7,  8,  9, 10, 11, 12, 13, 14, 15, 16,\n",
              "       17, 18, 19, 20, 21, 22, 23, 24])"
            ]
          },
          "metadata": {},
          "execution_count": 51
        }
      ],
      "source": [
        "an[an<25]"
      ]
    },
    {
      "cell_type": "code",
      "execution_count": null,
      "metadata": {
        "colab": {
          "base_uri": "https://localhost:8080/"
        },
        "id": "aoBBqafYOYg3",
        "outputId": "31777297-d7b8-4039-8f08-e7cb21019b81"
      },
      "outputs": [
        {
          "output_type": "execute_result",
          "data": {
            "text/plain": [
              "array([26, 27, 28, 29, 30, 31, 32, 33, 34, 35])"
            ]
          },
          "metadata": {},
          "execution_count": 52
        }
      ],
      "source": [
        "an[an>25]"
      ]
    },
    {
      "cell_type": "markdown",
      "metadata": {
        "id": "yWMLftC9Q-RK"
      },
      "source": [
        "## **Broadcasting**"
      ]
    },
    {
      "cell_type": "code",
      "execution_count": null,
      "metadata": {
        "colab": {
          "base_uri": "https://localhost:8080/"
        },
        "id": "SnpsjXYWO4Wa",
        "outputId": "2b906d78-ece1-4abd-c891-4c1838df3a08"
      },
      "outputs": [
        {
          "output_type": "execute_result",
          "data": {
            "text/plain": [
              "array([[ 0,  1,  2,  3,  4,  5],\n",
              "       [ 6,  7,  8,  9, 10, 11],\n",
              "       [12, 13, 14, 15, 16, 17],\n",
              "       [18, 19, 20, 21, 22, 23],\n",
              "       [24, 25, 25, 25, 25, 25],\n",
              "       [25, 25, 25, 25, 25, 25]])"
            ]
          },
          "metadata": {},
          "execution_count": 53
        }
      ],
      "source": [
        "an[an>25]=25 #casting all the value that are greater than 25\n",
        "an"
      ]
    },
    {
      "cell_type": "code",
      "execution_count": null,
      "metadata": {
        "colab": {
          "base_uri": "https://localhost:8080/"
        },
        "id": "R48Mu6SNPHfN",
        "outputId": "8969c01a-145a-4e30-9bd9-a63f68c8cd11"
      },
      "outputs": [
        {
          "output_type": "execute_result",
          "data": {
            "text/plain": [
              "array([[ 6,  7,  8,  9, 10, 11],\n",
              "       [12, 13, 14, 15, 16, 17],\n",
              "       [18, 19, 20, 21, 22, 23],\n",
              "       [24, 25, 25, 25, 25, 25]])"
            ]
          },
          "metadata": {},
          "execution_count": 54
        }
      ],
      "source": [
        "an[1:5]"
      ]
    },
    {
      "cell_type": "markdown",
      "source": [
        "\n",
        "\n",
        "---\n",
        "\n"
      ],
      "metadata": {
        "id": "V5WbmZio96vT"
      }
    },
    {
      "cell_type": "markdown",
      "metadata": {
        "id": "xI62_kvpPhRV"
      },
      "source": [
        "\n",
        "\n",
        "```\n",
        "# This is formatted as code\n",
        "```\n",
        "\n",
        "## **Creating copy & view and their differences:**"
      ]
    },
    {
      "cell_type": "markdown",
      "source": [
        "**The Difference Between Copy and View :-**"
      ],
      "metadata": {
        "id": "hu0Vh7EZ7dba"
      }
    },
    {
      "cell_type": "markdown",
      "source": [
        "1. The main difference between a copy and a view of an array is that the copy is a new array, and the view is just a view of the original array.\n",
        "\n",
        "\n",
        "2. The copy SHOULD NOT be affected by the changes made to the original array.\n",
        "\n",
        "\n",
        "3. The view SHOULD be affected by the changes made to the original array.\n"
      ],
      "metadata": {
        "id": "eObD1gcH7jBx"
      }
    },
    {
      "cell_type": "markdown",
      "source": [
        "**copy :-**"
      ],
      "metadata": {
        "id": "VY3iiipH68MP"
      }
    },
    {
      "cell_type": "code",
      "execution_count": null,
      "metadata": {
        "colab": {
          "base_uri": "https://localhost:8080/"
        },
        "id": "znATa0VjPZ6P",
        "outputId": "db26562d-542c-4bdd-bc92-8fc5fd1a9e01"
      },
      "outputs": [
        {
          "output_type": "execute_result",
          "data": {
            "text/plain": [
              "array([[20, 21, 22, 23],\n",
              "       [25, 25, 25, 25],\n",
              "       [25, 25, 25, 25]])"
            ]
          },
          "metadata": {},
          "execution_count": 55
        }
      ],
      "source": [
        "an[3:,2:]"
      ]
    },
    {
      "cell_type": "code",
      "execution_count": null,
      "metadata": {
        "colab": {
          "base_uri": "https://localhost:8080/"
        },
        "id": "C13FAQXDQOW2",
        "outputId": "395b033c-fc75-49fb-cff3-6246ed3dc169"
      },
      "outputs": [
        {
          "output_type": "execute_result",
          "data": {
            "text/plain": [
              "array([[ 0,  1,  2,  3,  4,  5],\n",
              "       [ 6,  7,  8,  9, 10, 11],\n",
              "       [12, 13, 14, 15, 16, 17],\n",
              "       [18, 19, 20, 21, 22, 23],\n",
              "       [24, 25, 25, 25, 25, 25],\n",
              "       [25, 25, 25, 25, 25, 25]])"
            ]
          },
          "metadata": {},
          "execution_count": 56
        }
      ],
      "source": [
        "an_copy = an.copy()\n",
        "an_copy #if you have to change your data but\n",
        "#  you don't wanna change your original data that's why you create a copy"
      ]
    },
    {
      "cell_type": "markdown",
      "source": [
        "\n",
        "\n",
        "---\n",
        "\n",
        "**view :-**"
      ],
      "metadata": {
        "id": "N2MYTBnp7Dpn"
      }
    },
    {
      "cell_type": "code",
      "source": [
        "view1 = np.array([91,2,3])\n",
        "x = view1.view()\n",
        "x[0] = 1\n",
        "view1"
      ],
      "metadata": {
        "colab": {
          "base_uri": "https://localhost:8080/"
        },
        "id": "Iu9tbFFy7J8n",
        "outputId": "268181da-84aa-4d2c-cbb6-d891fd1f050c"
      },
      "execution_count": null,
      "outputs": [
        {
          "output_type": "execute_result",
          "data": {
            "text/plain": [
              "array([1, 2, 3])"
            ]
          },
          "metadata": {},
          "execution_count": 57
        }
      ]
    },
    {
      "cell_type": "code",
      "source": [
        "x"
      ],
      "metadata": {
        "colab": {
          "base_uri": "https://localhost:8080/"
        },
        "id": "UwSJkEZi87ag",
        "outputId": "0c4901b0-87f4-452f-b5d6-76dfdb8f68be"
      },
      "execution_count": null,
      "outputs": [
        {
          "output_type": "execute_result",
          "data": {
            "text/plain": [
              "array([1, 2, 3])"
            ]
          },
          "metadata": {},
          "execution_count": 58
        }
      ]
    },
    {
      "cell_type": "markdown",
      "source": [
        "\n",
        "\n",
        "---\n",
        "\n"
      ],
      "metadata": {
        "id": "ySyNuSym99Py"
      }
    },
    {
      "cell_type": "markdown",
      "metadata": {
        "id": "UflAzT4yjFSl"
      },
      "source": [
        "# Matrix\n"
      ]
    },
    {
      "cell_type": "code",
      "execution_count": null,
      "metadata": {
        "id": "h8djqXYljL-B"
      },
      "outputs": [],
      "source": [
        "eg_matrix = np.array(([1,2,3,4],[4,5,6,4],[7,8,9,8]))"
      ]
    },
    {
      "cell_type": "code",
      "execution_count": null,
      "metadata": {
        "colab": {
          "base_uri": "https://localhost:8080/"
        },
        "id": "jZQXe3T9jbSK",
        "outputId": "4f71a774-9e7d-4e11-dc63-665869f1ac0d"
      },
      "outputs": [
        {
          "output_type": "execute_result",
          "data": {
            "text/plain": [
              "array([[1, 2, 3, 4],\n",
              "       [4, 5, 6, 4],\n",
              "       [7, 8, 9, 8]])"
            ]
          },
          "metadata": {},
          "execution_count": 60
        }
      ],
      "source": [
        "eg_matrix"
      ]
    },
    {
      "cell_type": "code",
      "execution_count": null,
      "metadata": {
        "colab": {
          "base_uri": "https://localhost:8080/"
        },
        "id": "1JmedpaEklUI",
        "outputId": "cad8f911-71c8-410b-a76d-265be6f49fa4"
      },
      "outputs": [
        {
          "output_type": "execute_result",
          "data": {
            "text/plain": [
              "6"
            ]
          },
          "metadata": {},
          "execution_count": 61
        }
      ],
      "source": [
        "eg_matrix[1][2]"
      ]
    },
    {
      "cell_type": "code",
      "source": [
        "[eg_matrix < 7]"
      ],
      "metadata": {
        "colab": {
          "base_uri": "https://localhost:8080/"
        },
        "id": "JitivjMutC3w",
        "outputId": "f020076e-c003-40db-90ab-0d6fedb283fd"
      },
      "execution_count": null,
      "outputs": [
        {
          "output_type": "execute_result",
          "data": {
            "text/plain": [
              "[array([[ True,  True,  True,  True],\n",
              "        [ True,  True,  True,  True],\n",
              "        [False, False, False, False]])]"
            ]
          },
          "metadata": {},
          "execution_count": 62
        }
      ]
    },
    {
      "cell_type": "code",
      "source": [
        "eg_matrix[eg_matrix >7]"
      ],
      "metadata": {
        "colab": {
          "base_uri": "https://localhost:8080/"
        },
        "id": "nBM7UUPNsm5h",
        "outputId": "fc0066ba-4ac8-4687-aecf-4f156b792ed1"
      },
      "execution_count": null,
      "outputs": [
        {
          "output_type": "execute_result",
          "data": {
            "text/plain": [
              "array([8, 9, 8])"
            ]
          },
          "metadata": {},
          "execution_count": 63
        }
      ]
    },
    {
      "cell_type": "code",
      "source": [
        "eg_matrix[eg_matrix < 7]"
      ],
      "metadata": {
        "colab": {
          "base_uri": "https://localhost:8080/"
        },
        "id": "HdRc_c53svNw",
        "outputId": "43153f4d-912d-4ee1-977e-ce0b38ca2956"
      },
      "execution_count": null,
      "outputs": [
        {
          "output_type": "execute_result",
          "data": {
            "text/plain": [
              "array([1, 2, 3, 4, 4, 5, 6, 4])"
            ]
          },
          "metadata": {},
          "execution_count": 64
        }
      ]
    },
    {
      "cell_type": "code",
      "source": [
        "eg_matrix.mean()"
      ],
      "metadata": {
        "colab": {
          "base_uri": "https://localhost:8080/"
        },
        "id": "dkfcBqTftjMF",
        "outputId": "5fd65882-2b43-4101-f118-c2a46bb2f037"
      },
      "execution_count": null,
      "outputs": [
        {
          "output_type": "execute_result",
          "data": {
            "text/plain": [
              "5.083333333333333"
            ]
          },
          "metadata": {},
          "execution_count": 65
        }
      ]
    },
    {
      "cell_type": "code",
      "source": [
        "eg_matrix.std()"
      ],
      "metadata": {
        "colab": {
          "base_uri": "https://localhost:8080/"
        },
        "id": "_AGLYgrVtmfA",
        "outputId": "a36b04ee-e65d-47ac-81b2-46bff4d8e1ea"
      },
      "execution_count": null,
      "outputs": [
        {
          "output_type": "execute_result",
          "data": {
            "text/plain": [
              "2.43099202430247"
            ]
          },
          "metadata": {},
          "execution_count": 66
        }
      ]
    },
    {
      "cell_type": "code",
      "source": [
        "eg_matrix.var()"
      ],
      "metadata": {
        "colab": {
          "base_uri": "https://localhost:8080/"
        },
        "id": "xNyt6NyAttZN",
        "outputId": "3e82043f-6e7c-47ef-f729-53ae339e1b36"
      },
      "execution_count": null,
      "outputs": [
        {
          "output_type": "execute_result",
          "data": {
            "text/plain": [
              "5.909722222222222"
            ]
          },
          "metadata": {},
          "execution_count": 67
        }
      ]
    },
    {
      "cell_type": "code",
      "execution_count": null,
      "metadata": {
        "colab": {
          "base_uri": "https://localhost:8080/"
        },
        "id": "hFOdqd6VklqX",
        "outputId": "075e1d87-b032-4e39-8c89-56fec419b8ab"
      },
      "outputs": [
        {
          "output_type": "stream",
          "name": "stderr",
          "text": [
            "/usr/local/lib/python3.7/dist-packages/numpy/matrixlib/defmatrix.py:145: VisibleDeprecationWarning: Creating an ndarray from ragged nested sequences (which is a list-or-tuple of lists-or-tuples-or ndarrays with different lengths or shapes) is deprecated. If you meant to do this, you must specify 'dtype=object' when creating the ndarray\n",
            "  arr = N.array(data, dtype=dtype, copy=copy)\n"
          ]
        },
        {
          "output_type": "execute_result",
          "data": {
            "text/plain": [
              "matrix([[list([5, 6, 7]), list([4, 6])]], dtype=object)"
            ]
          },
          "metadata": {},
          "execution_count": 68
        }
      ],
      "source": [
        "eg1=np.matrix([[5,6,7],[4,6]])\n",
        "eg1"
      ]
    },
    {
      "cell_type": "markdown",
      "source": [
        "\n",
        "\n",
        "---\n",
        "\n"
      ],
      "metadata": {
        "id": "W8a4PBf59m_K"
      }
    },
    {
      "cell_type": "markdown",
      "source": [
        "## **Numpy for Statistical Operations:**\n",
        "\n",
        "\n",
        "1.   amin():-   `It finds the minimum value alon a specified axis.`\n",
        "---\n",
        "2.   amax():-   `It finda the maximum value along a specified axis.`\n",
        "---\n",
        "3.   mean():-   `It finds the maximum value along a specified axis.`\n",
        "---\n",
        "4.   std():-    `It finds the standard deviation.`\n",
        "---\n",
        "5.   median():- `It find the mediian value of the dataset.`\n",
        "---\n",
        "6.   var :-     `It determines the variance.`\n",
        "---\n",
        "7.   average():- `It determines the weighted average.`\n",
        "---\n",
        "8.   ptp():-  `It returns the peak to peak value for a range of values along an axis.`\n",
        "---\n",
        "9.   percentile():-  `It determines the Nth percentile of data along the specified axis.`\n",
        "---\n",
        "10.  argmin():- `It returns the position of minimum number.`\n",
        "---\n",
        "11.  agrmax():- `It returns the position of maximum number.`\n",
        "---\n",
        "12.  sqrt():- `It returns the square root of every number.`\n",
        "---\n",
        "13.  sin():- `It returns the sin value of every number.`\n",
        "---\n",
        "14.  cos():-  `It returns the cos value of every number.`\n",
        "---\n",
        "15.  sum():- `It is used for finding the sum value of an array.`\n",
        "---\n"
      ],
      "metadata": {
        "id": "fbEGdMxz5QAV"
      }
    },
    {
      "cell_type": "code",
      "source": [
        "A = np.array([[11,12,13],[14,12,16],[14,15,16]])\n",
        "A"
      ],
      "metadata": {
        "colab": {
          "base_uri": "https://localhost:8080/"
        },
        "id": "TiAwA330b4GW",
        "outputId": "bafcdbf7-9283-40bc-c9c5-f9b9bb18254a"
      },
      "execution_count": null,
      "outputs": [
        {
          "output_type": "execute_result",
          "data": {
            "text/plain": [
              "array([[11, 12, 13],\n",
              "       [14, 12, 16],\n",
              "       [14, 15, 16]])"
            ]
          },
          "metadata": {},
          "execution_count": 69
        }
      ]
    },
    {
      "cell_type": "markdown",
      "source": [
        "### `sum():-`"
      ],
      "metadata": {
        "id": "5d3gd7oWdKdg"
      }
    },
    {
      "cell_type": "code",
      "source": [
        "np.sum(A)"
      ],
      "metadata": {
        "colab": {
          "base_uri": "https://localhost:8080/"
        },
        "id": "AUWiN5ixcjKg",
        "outputId": "3b0f73e7-b888-4fb5-df7f-e3cf25fed89f"
      },
      "execution_count": null,
      "outputs": [
        {
          "output_type": "execute_result",
          "data": {
            "text/plain": [
              "123"
            ]
          },
          "metadata": {},
          "execution_count": 70
        }
      ]
    },
    {
      "cell_type": "code",
      "source": [
        "# finding the sum value alon a specified axis.\n",
        "np.sum(A, axis = 0)"
      ],
      "metadata": {
        "colab": {
          "base_uri": "https://localhost:8080/"
        },
        "id": "4Tpe0XyYcm8g",
        "outputId": "3bd7f518-63a6-486d-8ca2-eac2af47d96f"
      },
      "execution_count": null,
      "outputs": [
        {
          "output_type": "execute_result",
          "data": {
            "text/plain": [
              "array([39, 39, 45])"
            ]
          },
          "metadata": {},
          "execution_count": 71
        }
      ]
    },
    {
      "cell_type": "code",
      "source": [
        "np.sum(A, axis = 1)"
      ],
      "metadata": {
        "colab": {
          "base_uri": "https://localhost:8080/"
        },
        "id": "R5Zxmo1Zc0Mg",
        "outputId": "8a115dd8-cf0e-4bbb-ff2b-9e9f45841334"
      },
      "execution_count": null,
      "outputs": [
        {
          "output_type": "execute_result",
          "data": {
            "text/plain": [
              "array([36, 42, 45])"
            ]
          },
          "metadata": {},
          "execution_count": 72
        }
      ]
    },
    {
      "cell_type": "markdown",
      "source": [
        "\n",
        "\n",
        "---\n",
        "\n"
      ],
      "metadata": {
        "id": "gk_wsjv0dIe8"
      }
    },
    {
      "cell_type": "markdown",
      "source": [
        "### `amin():-`"
      ],
      "metadata": {
        "id": "ErQzOzcedR1I"
      }
    },
    {
      "cell_type": "code",
      "source": [
        "np.amin(A)"
      ],
      "metadata": {
        "colab": {
          "base_uri": "https://localhost:8080/"
        },
        "id": "Rb6ZQS3ydJdU",
        "outputId": "b2dc3c72-1393-4a82-b39f-7a74175f4868"
      },
      "execution_count": null,
      "outputs": [
        {
          "output_type": "execute_result",
          "data": {
            "text/plain": [
              "11"
            ]
          },
          "metadata": {},
          "execution_count": 73
        }
      ]
    },
    {
      "cell_type": "code",
      "source": [
        "np.amin(A, axis = 0)"
      ],
      "metadata": {
        "colab": {
          "base_uri": "https://localhost:8080/"
        },
        "id": "qtmk6kDKdq7h",
        "outputId": "49e9238e-ee6a-43c1-e4ee-4b8737de2857"
      },
      "execution_count": null,
      "outputs": [
        {
          "output_type": "execute_result",
          "data": {
            "text/plain": [
              "array([11, 12, 13])"
            ]
          },
          "metadata": {},
          "execution_count": 74
        }
      ]
    },
    {
      "cell_type": "code",
      "source": [
        "np.amin(A, axis = 1)"
      ],
      "metadata": {
        "colab": {
          "base_uri": "https://localhost:8080/"
        },
        "id": "y6EqpRhMexH7",
        "outputId": "5341e42e-1ec9-4109-a4a7-e8ecdf6e3424"
      },
      "execution_count": null,
      "outputs": [
        {
          "output_type": "execute_result",
          "data": {
            "text/plain": [
              "array([11, 12, 14])"
            ]
          },
          "metadata": {},
          "execution_count": 75
        }
      ]
    },
    {
      "cell_type": "markdown",
      "source": [
        "\n",
        "\n",
        "---\n",
        "\n"
      ],
      "metadata": {
        "id": "0rJiCtuofi7H"
      }
    },
    {
      "cell_type": "markdown",
      "source": [
        "### `amax():-`"
      ],
      "metadata": {
        "id": "mEYeZ5aWfzZE"
      }
    },
    {
      "cell_type": "code",
      "source": [
        "np.amax(A)"
      ],
      "metadata": {
        "colab": {
          "base_uri": "https://localhost:8080/"
        },
        "id": "VTlk7UEWexEi",
        "outputId": "a039cfc0-8815-4284-8050-bf4856fb8e18"
      },
      "execution_count": null,
      "outputs": [
        {
          "output_type": "execute_result",
          "data": {
            "text/plain": [
              "16"
            ]
          },
          "metadata": {},
          "execution_count": 76
        }
      ]
    },
    {
      "cell_type": "code",
      "source": [
        "np.amax(A, axis = 0)"
      ],
      "metadata": {
        "colab": {
          "base_uri": "https://localhost:8080/"
        },
        "id": "vaJj_MYyew-g",
        "outputId": "a9b8e9bb-1aab-4db8-bdc4-b6031ac0f843"
      },
      "execution_count": null,
      "outputs": [
        {
          "output_type": "execute_result",
          "data": {
            "text/plain": [
              "array([14, 15, 16])"
            ]
          },
          "metadata": {},
          "execution_count": 77
        }
      ]
    },
    {
      "cell_type": "code",
      "source": [
        "np.amax(A, axis = 1)"
      ],
      "metadata": {
        "colab": {
          "base_uri": "https://localhost:8080/"
        },
        "id": "plWqgxyoew6L",
        "outputId": "3cb01ae5-28f5-472c-f77b-1e4bfb4f6956"
      },
      "execution_count": null,
      "outputs": [
        {
          "output_type": "execute_result",
          "data": {
            "text/plain": [
              "array([13, 16, 16])"
            ]
          },
          "metadata": {},
          "execution_count": 78
        }
      ]
    },
    {
      "cell_type": "markdown",
      "source": [
        "\n",
        "\n",
        "---\n",
        "\n"
      ],
      "metadata": {
        "id": "Ul6Go2dzgDSa"
      }
    },
    {
      "cell_type": "markdown",
      "source": [
        "### `mean():-`"
      ],
      "metadata": {
        "id": "t4z8fx4ugFGL"
      }
    },
    {
      "cell_type": "code",
      "source": [
        "np.mean(A)"
      ],
      "metadata": {
        "colab": {
          "base_uri": "https://localhost:8080/"
        },
        "id": "lMPRbPBgew1n",
        "outputId": "8f55082c-0dec-4114-f5da-cdd7cac9ef74"
      },
      "execution_count": null,
      "outputs": [
        {
          "output_type": "execute_result",
          "data": {
            "text/plain": [
              "13.666666666666666"
            ]
          },
          "metadata": {},
          "execution_count": 79
        }
      ]
    },
    {
      "cell_type": "code",
      "source": [
        "np.mean(A, axis = 0)"
      ],
      "metadata": {
        "colab": {
          "base_uri": "https://localhost:8080/"
        },
        "id": "UJUsugZjgahT",
        "outputId": "cf814249-57c5-44af-993f-7a2467b7879e"
      },
      "execution_count": null,
      "outputs": [
        {
          "output_type": "execute_result",
          "data": {
            "text/plain": [
              "array([13., 13., 15.])"
            ]
          },
          "metadata": {},
          "execution_count": 80
        }
      ]
    },
    {
      "cell_type": "code",
      "source": [
        "np.mean(A, axis = 1)"
      ],
      "metadata": {
        "colab": {
          "base_uri": "https://localhost:8080/"
        },
        "id": "InI61GyCgaaZ",
        "outputId": "6217c89c-4b4b-45e5-e70b-e1504f6027ba"
      },
      "execution_count": null,
      "outputs": [
        {
          "output_type": "execute_result",
          "data": {
            "text/plain": [
              "array([12., 14., 15.])"
            ]
          },
          "metadata": {},
          "execution_count": 81
        }
      ]
    },
    {
      "cell_type": "markdown",
      "source": [
        "\n",
        "\n",
        "---\n",
        "\n"
      ],
      "metadata": {
        "id": "siPNggFAgqQC"
      }
    },
    {
      "cell_type": "markdown",
      "source": [
        "### `std():-`"
      ],
      "metadata": {
        "id": "U9YmSFu4gr9y"
      }
    },
    {
      "cell_type": "code",
      "source": [
        "np.std(A)"
      ],
      "metadata": {
        "colab": {
          "base_uri": "https://localhost:8080/"
        },
        "id": "HMjIBx6hg1wx",
        "outputId": "1b31706e-5e8c-4518-cfb6-1145f2c0e583"
      },
      "execution_count": null,
      "outputs": [
        {
          "output_type": "execute_result",
          "data": {
            "text/plain": [
              "1.699673171197595"
            ]
          },
          "metadata": {},
          "execution_count": 82
        }
      ]
    },
    {
      "cell_type": "code",
      "source": [
        "np.std(A, axis = 0)"
      ],
      "metadata": {
        "colab": {
          "base_uri": "https://localhost:8080/"
        },
        "id": "13d8YGA6g7h2",
        "outputId": "cb55af28-60c1-4a81-e0d9-da9b478491db"
      },
      "execution_count": null,
      "outputs": [
        {
          "output_type": "execute_result",
          "data": {
            "text/plain": [
              "array([1.41421356, 1.41421356, 1.41421356])"
            ]
          },
          "metadata": {},
          "execution_count": 83
        }
      ]
    },
    {
      "cell_type": "code",
      "source": [
        "np.std(A, axis = 1)"
      ],
      "metadata": {
        "colab": {
          "base_uri": "https://localhost:8080/"
        },
        "id": "FSKWn2EThE73",
        "outputId": "96b2a04d-5157-4955-a03d-258805384afc"
      },
      "execution_count": null,
      "outputs": [
        {
          "output_type": "execute_result",
          "data": {
            "text/plain": [
              "array([0.81649658, 1.63299316, 0.81649658])"
            ]
          },
          "metadata": {},
          "execution_count": 84
        }
      ]
    },
    {
      "cell_type": "markdown",
      "source": [
        "\n",
        "\n",
        "---\n",
        "\n"
      ],
      "metadata": {
        "id": "IPUsDbS-hIPW"
      }
    },
    {
      "cell_type": "markdown",
      "source": [
        "### `Variance: var():-`"
      ],
      "metadata": {
        "id": "b620hEy3hJf3"
      }
    },
    {
      "cell_type": "code",
      "source": [
        "np.var(A)"
      ],
      "metadata": {
        "colab": {
          "base_uri": "https://localhost:8080/"
        },
        "id": "1XLjako1hH2i",
        "outputId": "b7cccb3a-63ab-47e9-f5b9-8661092c3311"
      },
      "execution_count": null,
      "outputs": [
        {
          "output_type": "execute_result",
          "data": {
            "text/plain": [
              "2.888888888888889"
            ]
          },
          "metadata": {},
          "execution_count": 85
        }
      ]
    },
    {
      "cell_type": "code",
      "source": [
        "np.var(A,axis = 0)"
      ],
      "metadata": {
        "colab": {
          "base_uri": "https://localhost:8080/"
        },
        "id": "8ef1H8Y_hZWX",
        "outputId": "491b47b1-0598-471e-f83c-d663ca10d782"
      },
      "execution_count": null,
      "outputs": [
        {
          "output_type": "execute_result",
          "data": {
            "text/plain": [
              "array([2., 2., 2.])"
            ]
          },
          "metadata": {},
          "execution_count": 86
        }
      ]
    },
    {
      "cell_type": "code",
      "source": [
        "np.var(A,axis = 1)"
      ],
      "metadata": {
        "colab": {
          "base_uri": "https://localhost:8080/"
        },
        "id": "CWNzbuGehZNL",
        "outputId": "7f14bbac-0025-4918-e308-2b11920adae3"
      },
      "execution_count": null,
      "outputs": [
        {
          "output_type": "execute_result",
          "data": {
            "text/plain": [
              "array([0.66666667, 2.66666667, 0.66666667])"
            ]
          },
          "metadata": {},
          "execution_count": 87
        }
      ]
    },
    {
      "cell_type": "markdown",
      "source": [
        "\n",
        "\n",
        "---\n",
        "\n"
      ],
      "metadata": {
        "id": "W1n_BE6ahib_"
      }
    },
    {
      "cell_type": "markdown",
      "source": [
        "### ` average():-`"
      ],
      "metadata": {
        "id": "YefBVioYhjuD"
      }
    },
    {
      "cell_type": "code",
      "source": [
        "np.average(A)"
      ],
      "metadata": {
        "colab": {
          "base_uri": "https://localhost:8080/"
        },
        "id": "X6tB9JMKhs2E",
        "outputId": "934b4b2d-c1bd-4bbb-e46d-324d1e2ba82f"
      },
      "execution_count": null,
      "outputs": [
        {
          "output_type": "execute_result",
          "data": {
            "text/plain": [
              "13.666666666666666"
            ]
          },
          "metadata": {},
          "execution_count": 88
        }
      ]
    },
    {
      "cell_type": "code",
      "source": [
        "np.average(A, axis =0)"
      ],
      "metadata": {
        "colab": {
          "base_uri": "https://localhost:8080/"
        },
        "id": "ttT8QK61htq3",
        "outputId": "f126e1a9-6ac5-47d0-b356-ed0ef53c5c02"
      },
      "execution_count": null,
      "outputs": [
        {
          "output_type": "execute_result",
          "data": {
            "text/plain": [
              "array([13., 13., 15.])"
            ]
          },
          "metadata": {},
          "execution_count": 89
        }
      ]
    },
    {
      "cell_type": "code",
      "source": [
        "np.average(A, axis =1)"
      ],
      "metadata": {
        "colab": {
          "base_uri": "https://localhost:8080/"
        },
        "id": "Hj5ir6oHhthn",
        "outputId": "163970c0-343a-496a-ff88-60a4fc718c0b"
      },
      "execution_count": null,
      "outputs": [
        {
          "output_type": "execute_result",
          "data": {
            "text/plain": [
              "array([12., 14., 15.])"
            ]
          },
          "metadata": {},
          "execution_count": 90
        }
      ]
    },
    {
      "cell_type": "markdown",
      "source": [
        "when the weight values are not passed the avg value then the avg method works similar to the mean method."
      ],
      "metadata": {
        "id": "VTqSxDQDiOJD"
      }
    },
    {
      "cell_type": "code",
      "source": [
        "a = np.array([1,2,3,4,5,6,70])\n",
        "np.average(a)"
      ],
      "metadata": {
        "colab": {
          "base_uri": "https://localhost:8080/"
        },
        "id": "JZBVuYxziCwb",
        "outputId": "a755c55f-25f1-46f1-b007-e3225f0d48c8"
      },
      "execution_count": null,
      "outputs": [
        {
          "output_type": "execute_result",
          "data": {
            "text/plain": [
              "13.0"
            ]
          },
          "metadata": {},
          "execution_count": 91
        }
      ]
    },
    {
      "cell_type": "code",
      "source": [
        "#with weight gives weighted avg\n",
        "wt = np.array([0.5,0.25,0.25,0.25,0.5,0.25,0.5])\n",
        "np.average(a, weights= wt)"
      ],
      "metadata": {
        "colab": {
          "base_uri": "https://localhost:8080/"
        },
        "id": "fzA1EYqjk-uK",
        "outputId": "853f223d-766d-4e19-8b64-86b19ea44026"
      },
      "execution_count": null,
      "outputs": [
        {
          "output_type": "execute_result",
          "data": {
            "text/plain": [
              "16.7"
            ]
          },
          "metadata": {},
          "execution_count": 92
        }
      ]
    },
    {
      "cell_type": "markdown",
      "source": [
        "\n",
        "\n",
        "---\n",
        "\n"
      ],
      "metadata": {
        "id": "fU9RgYVllrmp"
      }
    },
    {
      "cell_type": "markdown",
      "source": [
        "### `percentile():-`"
      ],
      "metadata": {
        "id": "SrPh7Rm7ltAd"
      }
    },
    {
      "cell_type": "code",
      "source": [
        "np.percentile(A, 10,1)"
      ],
      "metadata": {
        "colab": {
          "base_uri": "https://localhost:8080/"
        },
        "id": "8g1CcXUHlrSt",
        "outputId": "bc6ebde0-35b0-4d1c-94fb-fa00b1c4f67f"
      },
      "execution_count": null,
      "outputs": [
        {
          "output_type": "execute_result",
          "data": {
            "text/plain": [
              "array([11.2, 12.4, 14.2])"
            ]
          },
          "metadata": {},
          "execution_count": 93
        }
      ]
    },
    {
      "cell_type": "code",
      "source": [
        "np.percentile(a, 10,axis = 0)"
      ],
      "metadata": {
        "colab": {
          "base_uri": "https://localhost:8080/"
        },
        "id": "dTeeMh2umKQ-",
        "outputId": "0f5988f2-9b31-42c5-ca8a-f75724bf76d7"
      },
      "execution_count": null,
      "outputs": [
        {
          "output_type": "execute_result",
          "data": {
            "text/plain": [
              "1.6"
            ]
          },
          "metadata": {},
          "execution_count": 94
        }
      ]
    },
    {
      "cell_type": "code",
      "source": [
        "np.percentile(A,30)"
      ],
      "metadata": {
        "colab": {
          "base_uri": "https://localhost:8080/"
        },
        "id": "MkDsT6qAmSXy",
        "outputId": "f106eab2-402d-4457-8da9-222048384546"
      },
      "execution_count": null,
      "outputs": [
        {
          "output_type": "execute_result",
          "data": {
            "text/plain": [
              "12.4"
            ]
          },
          "metadata": {},
          "execution_count": 95
        }
      ]
    },
    {
      "cell_type": "code",
      "source": [
        "np.percentile(a,30)"
      ],
      "metadata": {
        "colab": {
          "base_uri": "https://localhost:8080/"
        },
        "id": "3w0rLzm9mZh6",
        "outputId": "3425cea4-f929-4747-c932-620e56064cfb"
      },
      "execution_count": null,
      "outputs": [
        {
          "output_type": "execute_result",
          "data": {
            "text/plain": [
              "2.8"
            ]
          },
          "metadata": {},
          "execution_count": 96
        }
      ]
    },
    {
      "cell_type": "markdown",
      "source": [
        "\n",
        "\n",
        "---\n",
        "\n"
      ],
      "metadata": {
        "id": "Se5HFHAGm8m5"
      }
    },
    {
      "cell_type": "markdown",
      "source": [
        "### `peak to peak : ptp():-`"
      ],
      "metadata": {
        "id": "_iUvk5dKm9rV"
      }
    },
    {
      "cell_type": "code",
      "source": [
        "np.ptp(a,0) #0 is for the axis in the second argument"
      ],
      "metadata": {
        "colab": {
          "base_uri": "https://localhost:8080/"
        },
        "id": "kIueHFOMm8Jl",
        "outputId": "5911117b-0f09-4312-e611-9faaab357ca0"
      },
      "execution_count": null,
      "outputs": [
        {
          "output_type": "execute_result",
          "data": {
            "text/plain": [
              "69"
            ]
          },
          "metadata": {},
          "execution_count": 97
        }
      ]
    },
    {
      "cell_type": "markdown",
      "source": [
        "\n",
        "\n",
        "---\n",
        "\n",
        "##**Stacking** :-\n",
        "\n",
        "\n",
        "*   stack() function is used to join a sequence of same dimension arrays along a new axis.\n",
        "\n",
        "\n",
        "*   The axis parameter specifies the index of the new axis in the dimensions of the result. For example, if axis=0 it will be the first dimension and if axis=-1 it will be the last dimension.\n",
        "\n"
      ],
      "metadata": {
        "id": "dRi04G_H_LFG"
      }
    },
    {
      "cell_type": "markdown",
      "source": [
        "\n",
        "\n",
        "---\n",
        "\n",
        "***Stacking with 1D array:***"
      ],
      "metadata": {
        "id": "F7F8kPYBFBFy"
      }
    },
    {
      "cell_type": "code",
      "source": [
        "stck = np.array([1,2,3,4])\n",
        "stck2 = np.array([5,6,7,8])\n",
        "stck"
      ],
      "metadata": {
        "colab": {
          "base_uri": "https://localhost:8080/"
        },
        "id": "F2Dob1cP_le3",
        "outputId": "d33b2eb0-340c-4272-f1a8-73aa06065781"
      },
      "execution_count": null,
      "outputs": [
        {
          "output_type": "execute_result",
          "data": {
            "text/plain": [
              "array([1, 2, 3, 4])"
            ]
          },
          "metadata": {},
          "execution_count": 98
        }
      ]
    },
    {
      "cell_type": "code",
      "source": [
        "stck2"
      ],
      "metadata": {
        "colab": {
          "base_uri": "https://localhost:8080/"
        },
        "id": "26PP3MJrC2_2",
        "outputId": "8872542a-e74b-4082-cbfe-5b8ef4b561d7"
      },
      "execution_count": null,
      "outputs": [
        {
          "output_type": "execute_result",
          "data": {
            "text/plain": [
              "array([5, 6, 7, 8])"
            ]
          },
          "metadata": {},
          "execution_count": 99
        }
      ]
    },
    {
      "cell_type": "code",
      "source": [
        "#It horizontally arranges the matrix\n",
        "np.hstack((stck,stck2))"
      ],
      "metadata": {
        "colab": {
          "base_uri": "https://localhost:8080/"
        },
        "id": "8NMC-WTLDFgX",
        "outputId": "90cde82a-5b3e-4f7e-d45c-4ae051b0bb4d"
      },
      "execution_count": null,
      "outputs": [
        {
          "output_type": "execute_result",
          "data": {
            "text/plain": [
              "array([1, 2, 3, 4, 5, 6, 7, 8])"
            ]
          },
          "metadata": {},
          "execution_count": 100
        }
      ]
    },
    {
      "cell_type": "code",
      "source": [
        "#It vertically arranges the matrix\n",
        "np.vstack((stck,stck2))"
      ],
      "metadata": {
        "colab": {
          "base_uri": "https://localhost:8080/"
        },
        "id": "d19acXKvDTN_",
        "outputId": "0b5e8591-cbcf-4b1c-bda2-7b3f82ff05a0"
      },
      "execution_count": null,
      "outputs": [
        {
          "output_type": "execute_result",
          "data": {
            "text/plain": [
              "array([[1, 2, 3, 4],\n",
              "       [5, 6, 7, 8]])"
            ]
          },
          "metadata": {},
          "execution_count": 101
        }
      ]
    },
    {
      "cell_type": "markdown",
      "source": [
        "*just for fun*"
      ],
      "metadata": {
        "id": "AKpjUF1cGu_G"
      }
    },
    {
      "cell_type": "code",
      "source": [
        "np.array((stck,stck2))"
      ],
      "metadata": {
        "colab": {
          "base_uri": "https://localhost:8080/"
        },
        "id": "7DvZ64hpC7Wq",
        "outputId": "16355800-e783-467c-c761-5b1df1b193ff"
      },
      "execution_count": null,
      "outputs": [
        {
          "output_type": "execute_result",
          "data": {
            "text/plain": [
              "array([[1, 2, 3, 4],\n",
              "       [5, 6, 7, 8]])"
            ]
          },
          "metadata": {},
          "execution_count": 102
        }
      ]
    },
    {
      "cell_type": "markdown",
      "source": [
        "\n",
        "\n",
        "---\n",
        "***Stacking with 2D array:***\n"
      ],
      "metadata": {
        "id": "wqhTqfkVFTEC"
      }
    },
    {
      "cell_type": "code",
      "source": [
        "np.random.seed(122)\n",
        "stck_arr1= np.random.randint(1,21,9).reshape(3,3)\n",
        "stck_arr2= np.random.randint(31,51,9).reshape(3,3)\n",
        "stck_arr1"
      ],
      "metadata": {
        "colab": {
          "base_uri": "https://localhost:8080/"
        },
        "id": "kcy3fYPUFZj1",
        "outputId": "3b57af95-c406-46e2-e467-be88866f7228"
      },
      "execution_count": null,
      "outputs": [
        {
          "output_type": "execute_result",
          "data": {
            "text/plain": [
              "array([[16, 11, 13],\n",
              "       [17, 13, 16],\n",
              "       [ 3, 16, 11]])"
            ]
          },
          "metadata": {},
          "execution_count": 103
        }
      ]
    },
    {
      "cell_type": "code",
      "source": [
        "stck_arr2"
      ],
      "metadata": {
        "colab": {
          "base_uri": "https://localhost:8080/"
        },
        "id": "4-wqtMt8F8by",
        "outputId": "1b16d146-6d9a-4e88-98b8-be03aba7fbcb"
      },
      "execution_count": null,
      "outputs": [
        {
          "output_type": "execute_result",
          "data": {
            "text/plain": [
              "array([[40, 37, 45],\n",
              "       [34, 35, 50],\n",
              "       [50, 44, 31]])"
            ]
          },
          "metadata": {},
          "execution_count": 104
        }
      ]
    },
    {
      "cell_type": "code",
      "source": [
        "np.hstack((stck_arr1,stck_arr2))"
      ],
      "metadata": {
        "colab": {
          "base_uri": "https://localhost:8080/"
        },
        "id": "svIzASiAF-iB",
        "outputId": "98c6b2e1-bf3d-4e2a-864c-e7bb2ea56257"
      },
      "execution_count": null,
      "outputs": [
        {
          "output_type": "execute_result",
          "data": {
            "text/plain": [
              "array([[16, 11, 13, 40, 37, 45],\n",
              "       [17, 13, 16, 34, 35, 50],\n",
              "       [ 3, 16, 11, 50, 44, 31]])"
            ]
          },
          "metadata": {},
          "execution_count": 105
        }
      ]
    },
    {
      "cell_type": "code",
      "source": [
        "np.vstack((stck_arr1,stck_arr2))"
      ],
      "metadata": {
        "colab": {
          "base_uri": "https://localhost:8080/"
        },
        "id": "29EuKgJKGQZX",
        "outputId": "48cc889b-2e0f-459e-ca61-7acf00f8c07a"
      },
      "execution_count": null,
      "outputs": [
        {
          "output_type": "execute_result",
          "data": {
            "text/plain": [
              "array([[16, 11, 13],\n",
              "       [17, 13, 16],\n",
              "       [ 3, 16, 11],\n",
              "       [40, 37, 45],\n",
              "       [34, 35, 50],\n",
              "       [50, 44, 31]])"
            ]
          },
          "metadata": {},
          "execution_count": 106
        }
      ]
    },
    {
      "cell_type": "markdown",
      "source": [
        "*just for fun*"
      ],
      "metadata": {
        "id": "ddOWKkK7GkPd"
      }
    },
    {
      "cell_type": "code",
      "source": [
        "np.array((stck_arr1,stck_arr2))"
      ],
      "metadata": {
        "colab": {
          "base_uri": "https://localhost:8080/"
        },
        "id": "8MCJz9BtGfEU",
        "outputId": "c19c999f-b531-47de-99bf-42fe2ce99323"
      },
      "execution_count": null,
      "outputs": [
        {
          "output_type": "execute_result",
          "data": {
            "text/plain": [
              "array([[[16, 11, 13],\n",
              "        [17, 13, 16],\n",
              "        [ 3, 16, 11]],\n",
              "\n",
              "       [[40, 37, 45],\n",
              "        [34, 35, 50],\n",
              "        [50, 44, 31]]])"
            ]
          },
          "metadata": {},
          "execution_count": 107
        }
      ]
    },
    {
      "cell_type": "markdown",
      "source": [
        "\n",
        "\n",
        "---\n",
        "\n"
      ],
      "metadata": {
        "id": "kNF1cS0l9lSs"
      }
    },
    {
      "cell_type": "markdown",
      "metadata": {
        "id": "4nVrOr10RRpe"
      },
      "source": [
        "#**Data Frame:**"
      ]
    },
    {
      "cell_type": "markdown",
      "source": [
        "\n",
        "\n",
        "---\n",
        "\n",
        "\n",
        "\n",
        "---\n",
        "\n"
      ],
      "metadata": {
        "id": "qJOizGwz5OP6"
      }
    },
    {
      "cell_type": "markdown",
      "metadata": {
        "id": "-dfzDDmlSFJW"
      },
      "source": [
        "`skiprows:   it basically means to skip the row`\n",
        "\n",
        "-\n",
        "**`In 2D array`**:-\n",
        "\n",
        "-\n",
        "`axis = 0:   it means we drop in rows or removing rows frome the dataset`\n",
        "\n",
        "-\n",
        "`axis = 1:   it means we drop in cloumn or removing it from the dataset`\n"
      ]
    }
  ],
  "metadata": {
    "colab": {
      "collapsed_sections": [],
      "name": "Copy of Libraries.ipynb",
      "provenance": [],
      "authorship_tag": "ABX9TyOr88Agh/nZzmNn7zPgsdHz"
    },
    "kernelspec": {
      "display_name": "Python 3",
      "name": "python3"
    },
    "language_info": {
      "name": "python"
    }
  },
  "nbformat": 4,
  "nbformat_minor": 0
}